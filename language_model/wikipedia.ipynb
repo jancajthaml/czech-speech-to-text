{
 "cells": [
  {
   "cell_type": "markdown",
   "metadata": {},
   "source": [
    "# Sentence tokenization from Wikipedia\n",
    "\n",
    "https://dumps.wikimedia.org/\n",
    "\n",
    "Take all the text from jsons, lower-case it, remove all punctuation, and remove leading/trailing whitespace\n",
    "\n",
    "Tokenize the sentences and write them to a file where each line is one sentence\n",
    "\n",
    "Sentences containing numeric characters are excluded\n",
    "\n",
    "## To Do\n",
    "[ ] remove single char words excpet of ['a', 'i', 'o', 's', 'u', 'v']\n",
    "\n",
    "[ ] remove lines with non defined in alphabet.txt"
   ]
  },
  {
   "cell_type": "code",
   "execution_count": 60,
   "metadata": {},
   "outputs": [],
   "source": [
    "import os\n",
    "from nltk.tokenize import sent_tokenize\n",
    "import string\n",
    "import re"
   ]
  },
  {
   "cell_type": "code",
   "execution_count": 64,
   "metadata": {},
   "outputs": [
    {
     "output_type": "error",
     "ename": "SyntaxError",
     "evalue": "unexpected EOF while parsing (<ipython-input-64-e9a628986b84>, line 4)",
     "traceback": [
      "\u001b[0;36m  File \u001b[0;32m\"<ipython-input-64-e9a628986b84>\"\u001b[0;36m, line \u001b[0;32m4\u001b[0m\n\u001b[0;31m    if i.endswith('.txt'):\u001b[0m\n\u001b[0m                          ^\u001b[0m\n\u001b[0;31mSyntaxError\u001b[0m\u001b[0;31m:\u001b[0m unexpected EOF while parsing\n"
     ]
    }
   ],
   "source": [
    "# work_dir = '/workspace/data/wikipedia/'\n",
    "work_dir = '/home/jakub/Documents/projekt/databazeknih/'\n",
    "for i in os.listdir('/home/jakub/Documents/projekt/databazeknih/'):\n",
    "    if i.endswith('.txt'):\n",
    "        "
   ]
  },
  {
   "cell_type": "code",
   "execution_count": 59,
   "metadata": {},
   "outputs": [],
   "source": [
    "def hasNumbers(inputString):\n",
    "    return bool(re.search(r'\\d', inputString))\n",
    "\n",
    "translator = str.maketrans('', '', string.punctuation)"
   ]
  },
  {
   "cell_type": "code",
   "execution_count": 61,
   "metadata": {},
   "outputs": [
    {
     "output_type": "error",
     "ename": "NameError",
     "evalue": "name 'input_files' is not defined",
     "traceback": [
      "\u001b[0;31m---------------------------------------------------------------------------\u001b[0m",
      "\u001b[0;31mNameError\u001b[0m                                 Traceback (most recent call last)",
      "\u001b[0;32m<ipython-input-61-8d179d65540a>\u001b[0m in \u001b[0;36m<module>\u001b[0;34m\u001b[0m\n\u001b[1;32m      1\u001b[0m \u001b[0;32mwith\u001b[0m \u001b[0mopen\u001b[0m\u001b[0;34m(\u001b[0m\u001b[0mwork_dir\u001b[0m \u001b[0;34m+\u001b[0m \u001b[0;34m'preprocessed.txt'\u001b[0m\u001b[0;34m,\u001b[0m \u001b[0;34m\"w+\"\u001b[0m\u001b[0;34m)\u001b[0m \u001b[0;32mas\u001b[0m \u001b[0mout_file\u001b[0m\u001b[0;34m:\u001b[0m\u001b[0;34m\u001b[0m\u001b[0;34m\u001b[0m\u001b[0m\n\u001b[1;32m      2\u001b[0m \u001b[0;34m\u001b[0m\u001b[0m\n\u001b[0;32m----> 3\u001b[0;31m     \u001b[0;32mfor\u001b[0m \u001b[0minput_file\u001b[0m \u001b[0;32min\u001b[0m \u001b[0minput_files\u001b[0m\u001b[0;34m:\u001b[0m\u001b[0;34m\u001b[0m\u001b[0;34m\u001b[0m\u001b[0m\n\u001b[0m\u001b[1;32m      4\u001b[0m         \u001b[0mstr_builder\u001b[0m \u001b[0;34m=\u001b[0m \u001b[0;34m''\u001b[0m\u001b[0;34m\u001b[0m\u001b[0;34m\u001b[0m\u001b[0m\n\u001b[1;32m      5\u001b[0m         \u001b[0;32mwith\u001b[0m \u001b[0mopen\u001b[0m\u001b[0;34m(\u001b[0m\u001b[0mwork_dir\u001b[0m \u001b[0;34m+\u001b[0m \u001b[0minput_file\u001b[0m\u001b[0;34m,\u001b[0m \u001b[0;34m\"r\"\u001b[0m\u001b[0;34m)\u001b[0m \u001b[0;32mas\u001b[0m \u001b[0min_file\u001b[0m\u001b[0;34m:\u001b[0m\u001b[0;34m\u001b[0m\u001b[0;34m\u001b[0m\u001b[0m\n",
      "\u001b[0;31mNameError\u001b[0m: name 'input_files' is not defined"
     ]
    }
   ],
   "source": [
    "with open(work_dir + 'preprocessed.txt', \"w+\") as out_file:\n",
    "    \n",
    "    for input_file in input_files:\n",
    "        str_builder = ''\n",
    "        with open(work_dir + input_file, \"r\") as in_file:\n",
    "            for line in in_file:\n",
    "                words = sent_tokenize(line)\n",
    "\n",
    "                if len(words) < 2:  # Skip 1 word sentences\n",
    "                    continue\n",
    "\n",
    "                for s in words:\n",
    "                    processed_str = s.lower().translate(translator).strip()\n",
    "                    if processed_str and not hasNumbers(processed_str):    # No numbers allowed\n",
    "                        str_builder += processed_str + '\\n'\n",
    "\n",
    "            out_file.write(str_builder)\n",
    "\n"
   ]
  },
  {
   "source": [
    "\n"
   ],
   "cell_type": "markdown",
   "metadata": {}
  }
 ],
 "metadata": {
  "kernelspec": {
   "name": "python3",
   "display_name": "Python 3.8.5 64-bit ('venv')",
   "metadata": {
    "interpreter": {
     "hash": "683ebf348b6c625824b8b2fc279a80723cbfacc89467e803c54a6ddabea43607"
    }
   }
  },
  "language_info": {
   "codemirror_mode": {
    "name": "ipython",
    "version": 3
   },
   "file_extension": ".py",
   "mimetype": "text/x-python",
   "name": "python",
   "nbconvert_exporter": "python",
   "pygments_lexer": "ipython3",
   "version": "3.8.5-final"
  }
 },
 "nbformat": 4,
 "nbformat_minor": 4
}