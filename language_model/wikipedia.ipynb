{
 "cells": [
  {
   "cell_type": "markdown",
   "metadata": {},
   "source": [
    "# Sentence tokenization from Wikipedia\n",
    "\n",
    "https://dumps.wikimedia.org/\n",
    "\n",
    "Take all the text from jsons, lower-case it, remove all punctuation, and remove leading/trailing whitespace\n",
    "\n",
    "Tokenize the sentences and write them to a file where each line is one sentence\n",
    "\n",
    "Sentences containing numeric characters are excluded\n",
    "\n",
    "## To Do\n",
    "[ ] remove single char words excpet of ['a', 'i', 'o', 's', 'u', 'v']\n",
    "\n",
    "[ ] remove lines with non defined in alphabet.txt"
   ]
  },
  {
   "cell_type": "code",
   "execution_count": 1,
   "metadata": {},
   "outputs": [],
   "source": [
    "from nltk.tokenize import sent_tokenize\n",
    "import string\n",
    "import re"
   ]
  },
  {
   "cell_type": "code",
   "execution_count": 2,
   "metadata": {},
   "outputs": [],
   "source": [
    "# work_dir = '/workspace/data/wikipedia/'\n",
    "work_dir = '/home/honza/projects/asr-data/wikipedia/'\n",
    "input_files = ['cs.txt']"
   ]
  },
  {
   "cell_type": "code",
   "execution_count": 3,
   "metadata": {},
   "outputs": [],
   "source": [
    "def hasNumbers(inputString):\n",
    "    return bool(re.search(r'\\d', inputString))\n",
    "\n",
    "translator = str.maketrans('', '', string.punctuation)"
   ]
  },
  {
   "cell_type": "code",
   "execution_count": 5,
   "metadata": {},
   "outputs": [],
   "source": [
    "with open(work_dir + 'preprocessed.txt', \"w+\") as out_file:\n",
    "    \n",
    "    for input_file in input_files:\n",
    "        str_builder = ''\n",
    "        with open(work_dir + input_file, \"r\") as in_file:\n",
    "            for line in in_file:\n",
    "                words = sent_tokenize(line)\n",
    "\n",
    "                if len(words) < 2:  # Skip 1 word sentences\n",
    "                    continue\n",
    "\n",
    "                for s in words:\n",
    "                    processed_str = s.lower().translate(translator).strip()\n",
    "                    if processed_str and not hasNumbers(processed_str):    # No numbers allowed\n",
    "                        str_builder += processed_str + '\\n'\n",
    "\n",
    "            out_file.write(str_builder)\n",
    "\n"
   ]
  },
  {
   "source": [
    "\n"
   ],
   "cell_type": "markdown",
   "metadata": {}
  }
 ],
 "metadata": {
  "kernelspec": {
   "display_name": "Python 3",
   "language": "python",
   "name": "python3"
  },
  "language_info": {
   "codemirror_mode": {
    "name": "ipython",
    "version": 3
   },
   "file_extension": ".py",
   "mimetype": "text/x-python",
   "name": "python",
   "nbconvert_exporter": "python",
   "pygments_lexer": "ipython3",
   "version": "3.8.5-final"
  }
 },
 "nbformat": 4,
 "nbformat_minor": 4
}